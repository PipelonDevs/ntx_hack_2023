{
 "cells": [
  {
   "cell_type": "code",
   "execution_count": 2,
   "id": "3e673766-50cb-4d25-953d-f3fa1b75abf1",
   "metadata": {},
   "outputs": [],
   "source": [
    "import pandas as pd\n",
    "import numpy as np \n",
    "import matplotlib.pyplot as plt\n",
    "from sklearn.model_selection import train_test_split\n",
    "from sklearn.svm import SVC\n",
    "from sklearn.metrics import classification_report"
   ]
  },
  {
   "cell_type": "code",
   "execution_count": 3,
   "id": "593fd54e-c30f-43e4-a5ec-35129bcd721e",
   "metadata": {},
   "outputs": [],
   "source": [
    "path = \"Datasets/boringData.csv\""
   ]
  },
  {
   "cell_type": "code",
   "execution_count": null,
   "id": "4b3e2dd6-713e-46b6-9c5c-8e9a34609991",
   "metadata": {},
   "outputs": [],
   "source": [
    "data = pd.read_csv(path)\n"
   ]
  },
  {
   "cell_type": "code",
   "execution_count": null,
   "id": "e08b9d8f-83d3-4f26-933c-4bca1eaec4c2",
   "metadata": {},
   "outputs": [],
   "source": [
    "data.shape"
   ]
  },
  {
   "cell_type": "code",
   "execution_count": null,
   "id": "46e4758f-9fd3-4d1b-9b71-22cc1a8ef639",
   "metadata": {},
   "outputs": [],
   "source": [
    "data.head"
   ]
  }
 ],
 "metadata": {
  "kernelspec": {
   "display_name": "Python 3 (ipykernel)",
   "language": "python",
   "name": "python3"
  },
  "language_info": {
   "codemirror_mode": {
    "name": "ipython",
    "version": 3
   },
   "file_extension": ".py",
   "mimetype": "text/x-python",
   "name": "python",
   "nbconvert_exporter": "python",
   "pygments_lexer": "ipython3",
   "version": "3.11.6"
  }
 },
 "nbformat": 4,
 "nbformat_minor": 5
}
