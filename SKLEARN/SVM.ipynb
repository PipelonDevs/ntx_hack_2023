{
 "cells": [
  {
   "cell_type": "code",
   "execution_count": 1,
   "id": "3e673766-50cb-4d25-953d-f3fa1b75abf1",
   "metadata": {},
   "outputs": [],
   "source": [
    "import pandas as pd\n",
    "import numpy as np \n",
    "import matplotlib.pyplot as plt\n",
    "from sklearn.model_selection import train_test_split\n",
    "from sklearn.svm import SVC\n",
    "from sklearn.metrics import classification_report"
   ]
  },
  {
   "cell_type": "code",
   "execution_count": 2,
   "id": "593fd54e-c30f-43e4-a5ec-35129bcd721e",
   "metadata": {},
   "outputs": [],
   "source": [
    "path_boring = \"../Datasets/boringDataChannels.csv\"\n",
    "path_immersive = \"../Datasets/immersiveDataChannels.csv\""
   ]
  },
  {
   "cell_type": "code",
   "execution_count": 3,
   "id": "4b3e2dd6-713e-46b6-9c5c-8e9a34609991",
   "metadata": {},
   "outputs": [],
   "source": [
    "data_boring = pd.read_csv(path_boring)\n",
    "data_immersive = pd.read_csv(path_immersive)"
   ]
  },
  {
   "cell_type": "code",
   "execution_count": 4,
   "id": "0c34c6c7-4b2f-4ad8-94b8-78b8a0439f01",
   "metadata": {},
   "outputs": [],
   "source": [
    "trimmed_data_boring = data_boring.iloc[:,8:56]\n",
    "trimmed_data_immersive = data_immersive.iloc[:,8:56]"
   ]
  },
  {
   "cell_type": "code",
   "execution_count": 5,
   "id": "2c889e69-6e8c-477e-b508-2cb84456bb4c",
   "metadata": {},
   "outputs": [],
   "source": [
    "new_columns = [\n",
    "    'theta channel 1', 'theta channel 2', 'theta channel 3', 'theta channel 4',\n",
    "    'theta channel 5', 'theta channel 6', 'theta channel 7', 'theta channel 8',\n",
    "    'alpha channel 1', 'alpha channel 2', 'alpha channel 3', 'alpha channel 4',\n",
    "    'alpha channel 5', 'alpha channel 6', 'alpha channel 7', 'alpha channel 8',\n",
    "    'beta low channel 1', 'beta low channel 2', 'beta low channel 3', 'beta low channel 4',\n",
    "    'beta low channel 5', 'beta low channel 6', 'beta low channel 7', 'beta low channel 8',\n",
    "    'beta mid channel 1', 'beta mid channel 2', 'beta mid channel 3', 'beta mid channel 4',\n",
    "    'beta mid channel 5', 'beta mid channel 6', 'beta mid channel 7', 'beta mid channel 8',\n",
    "    'beta high channel 1', 'beta high channel 2', 'beta high channel 3', 'beta high channel 4',\n",
    "    'beta high channel 5', 'beta high channel 6', 'beta high channel 7', 'beta high channel 8',\n",
    "    'gamma channel 1', 'gamma channel 2', 'gamma channel 3', 'gamma channel 4',\n",
    "    'gamma channel 5', 'gamma channel 6', 'gamma channel 7', 'gamma channel 8'\n",
    "]\n",
    "\n",
    "# Update DataFrame columns\n",
    "trimmed_data_boring.columns = new_columns\n",
    "trimmed_data_immersive.columns = new_columns"
   ]
  },
  {
   "cell_type": "code",
   "execution_count": 9,
   "id": "dbf8f0dd-028a-4ad4-8ba4-5442bc5e6616",
   "metadata": {},
   "outputs": [
    {
     "name": "stderr",
     "output_type": "stream",
     "text": [
      "/tmp/ipykernel_73595/4027721209.py:2: SettingWithCopyWarning: \n",
      "A value is trying to be set on a copy of a slice from a DataFrame.\n",
      "Try using .loc[row_indexer,col_indexer] = value instead\n",
      "\n",
      "See the caveats in the documentation: https://pandas.pydata.org/pandas-docs/stable/user_guide/indexing.html#returning-a-view-versus-a-copy\n",
      "  trimmed_data_boring.loc[:, 'Flag'] = 0\n",
      "/tmp/ipykernel_73595/4027721209.py:5: SettingWithCopyWarning: \n",
      "A value is trying to be set on a copy of a slice from a DataFrame.\n",
      "Try using .loc[row_indexer,col_indexer] = value instead\n",
      "\n",
      "See the caveats in the documentation: https://pandas.pydata.org/pandas-docs/stable/user_guide/indexing.html#returning-a-view-versus-a-copy\n",
      "  trimmed_data_immersive.loc[:, 'Flag'] = 1\n"
     ]
    }
   ],
   "source": [
    "# Add 'Flag' column with value 0 to trimmed_data_boring\n",
    "trimmed_data_boring.loc[:, 'Flag'] = 0\n",
    "\n",
    "# Add 'Flag' column with value 1 to trimmed_data_immersive\n",
    "trimmed_data_immersive.loc[:, 'Flag'] = 1"
   ]
  },
  {
   "cell_type": "code",
   "execution_count": 10,
   "id": "77cf2bf9-533a-4f6f-8ffb-ccf0bbc8a20c",
   "metadata": {},
   "outputs": [],
   "source": [
    "whole_data = pd.concat([trimmed_data_boring, trimmed_data_immersive], ignore_index =True)"
   ]
  },
  {
   "cell_type": "code",
   "execution_count": 11,
   "id": "2eed3fae-e4a9-4890-b441-15dd6777a62d",
   "metadata": {},
   "outputs": [],
   "source": [
    "X = whole_data.drop(\"Flag\",axis=1)\n",
    "y = whole_data[\"Flag\"]"
   ]
  },
  {
   "cell_type": "code",
   "execution_count": 12,
   "id": "e37ae51d-73af-455f-a7a8-35c15e312014",
   "metadata": {},
   "outputs": [],
   "source": [
    "X_train, X_test, y_train, y_test = train_test_split(X, y, test_size=0.2, random_state=42)"
   ]
  },
  {
   "cell_type": "code",
   "execution_count": 21,
   "id": "7ef8c0bf-4bb5-4b11-a6b0-ad0c403090ff",
   "metadata": {},
   "outputs": [
    {
     "data": {
      "text/html": [
       "<style>#sk-container-id-2 {color: black;}#sk-container-id-2 pre{padding: 0;}#sk-container-id-2 div.sk-toggleable {background-color: white;}#sk-container-id-2 label.sk-toggleable__label {cursor: pointer;display: block;width: 100%;margin-bottom: 0;padding: 0.3em;box-sizing: border-box;text-align: center;}#sk-container-id-2 label.sk-toggleable__label-arrow:before {content: \"▸\";float: left;margin-right: 0.25em;color: #696969;}#sk-container-id-2 label.sk-toggleable__label-arrow:hover:before {color: black;}#sk-container-id-2 div.sk-estimator:hover label.sk-toggleable__label-arrow:before {color: black;}#sk-container-id-2 div.sk-toggleable__content {max-height: 0;max-width: 0;overflow: hidden;text-align: left;background-color: #f0f8ff;}#sk-container-id-2 div.sk-toggleable__content pre {margin: 0.2em;color: black;border-radius: 0.25em;background-color: #f0f8ff;}#sk-container-id-2 input.sk-toggleable__control:checked~div.sk-toggleable__content {max-height: 200px;max-width: 100%;overflow: auto;}#sk-container-id-2 input.sk-toggleable__control:checked~label.sk-toggleable__label-arrow:before {content: \"▾\";}#sk-container-id-2 div.sk-estimator input.sk-toggleable__control:checked~label.sk-toggleable__label {background-color: #d4ebff;}#sk-container-id-2 div.sk-label input.sk-toggleable__control:checked~label.sk-toggleable__label {background-color: #d4ebff;}#sk-container-id-2 input.sk-hidden--visually {border: 0;clip: rect(1px 1px 1px 1px);clip: rect(1px, 1px, 1px, 1px);height: 1px;margin: -1px;overflow: hidden;padding: 0;position: absolute;width: 1px;}#sk-container-id-2 div.sk-estimator {font-family: monospace;background-color: #f0f8ff;border: 1px dotted black;border-radius: 0.25em;box-sizing: border-box;margin-bottom: 0.5em;}#sk-container-id-2 div.sk-estimator:hover {background-color: #d4ebff;}#sk-container-id-2 div.sk-parallel-item::after {content: \"\";width: 100%;border-bottom: 1px solid gray;flex-grow: 1;}#sk-container-id-2 div.sk-label:hover label.sk-toggleable__label {background-color: #d4ebff;}#sk-container-id-2 div.sk-serial::before {content: \"\";position: absolute;border-left: 1px solid gray;box-sizing: border-box;top: 0;bottom: 0;left: 50%;z-index: 0;}#sk-container-id-2 div.sk-serial {display: flex;flex-direction: column;align-items: center;background-color: white;padding-right: 0.2em;padding-left: 0.2em;position: relative;}#sk-container-id-2 div.sk-item {position: relative;z-index: 1;}#sk-container-id-2 div.sk-parallel {display: flex;align-items: stretch;justify-content: center;background-color: white;position: relative;}#sk-container-id-2 div.sk-item::before, #sk-container-id-2 div.sk-parallel-item::before {content: \"\";position: absolute;border-left: 1px solid gray;box-sizing: border-box;top: 0;bottom: 0;left: 50%;z-index: -1;}#sk-container-id-2 div.sk-parallel-item {display: flex;flex-direction: column;z-index: 1;position: relative;background-color: white;}#sk-container-id-2 div.sk-parallel-item:first-child::after {align-self: flex-end;width: 50%;}#sk-container-id-2 div.sk-parallel-item:last-child::after {align-self: flex-start;width: 50%;}#sk-container-id-2 div.sk-parallel-item:only-child::after {width: 0;}#sk-container-id-2 div.sk-dashed-wrapped {border: 1px dashed gray;margin: 0 0.4em 0.5em 0.4em;box-sizing: border-box;padding-bottom: 0.4em;background-color: white;}#sk-container-id-2 div.sk-label label {font-family: monospace;font-weight: bold;display: inline-block;line-height: 1.2em;}#sk-container-id-2 div.sk-label-container {text-align: center;}#sk-container-id-2 div.sk-container {/* jupyter's `normalize.less` sets `[hidden] { display: none; }` but bootstrap.min.css set `[hidden] { display: none !important; }` so we also need the `!important` here to be able to override the default hidden behavior on the sphinx rendered scikit-learn.org. See: https://github.com/scikit-learn/scikit-learn/issues/21755 */display: inline-block !important;position: relative;}#sk-container-id-2 div.sk-text-repr-fallback {display: none;}</style><div id=\"sk-container-id-2\" class=\"sk-top-container\"><div class=\"sk-text-repr-fallback\"><pre>SVC(probability=True)</pre><b>In a Jupyter environment, please rerun this cell to show the HTML representation or trust the notebook. <br />On GitHub, the HTML representation is unable to render, please try loading this page with nbviewer.org.</b></div><div class=\"sk-container\" hidden><div class=\"sk-item\"><div class=\"sk-estimator sk-toggleable\"><input class=\"sk-toggleable__control sk-hidden--visually\" id=\"sk-estimator-id-2\" type=\"checkbox\" checked><label for=\"sk-estimator-id-2\" class=\"sk-toggleable__label sk-toggleable__label-arrow\">SVC</label><div class=\"sk-toggleable__content\"><pre>SVC(probability=True)</pre></div></div></div></div></div>"
      ],
      "text/plain": [
       "SVC(probability=True)"
      ]
     },
     "execution_count": 21,
     "metadata": {},
     "output_type": "execute_result"
    }
   ],
   "source": [
    "clf = SVC(kernel='rbf', probability=True)\n",
    "clf.fit(X_train,y_train)"
   ]
  },
  {
   "cell_type": "code",
   "execution_count": 22,
   "id": "b02e744b-b165-4f4d-890e-a0bf00e47111",
   "metadata": {},
   "outputs": [
    {
     "name": "stdout",
     "output_type": "stream",
     "text": [
      "[0 0 0 ... 0 1 0]\n"
     ]
    }
   ],
   "source": [
    "y_pred = clf.predict(X_test)\n",
    "print(y_pred)\n",
    "clf.predict_proba(X_test.iloc[0:1,:])"
   ]
  },
  {
   "cell_type": "code",
   "execution_count": 23,
   "id": "b187c8ab-056c-418e-92f9-ae4c37992b2f",
   "metadata": {},
   "outputs": [
    {
     "name": "stdout",
     "output_type": "stream",
     "text": [
      "              precision    recall  f1-score   support\n",
      "\n",
      "           0       0.97      0.96      0.97      6627\n",
      "           1       0.93      0.94      0.94      3393\n",
      "\n",
      "    accuracy                           0.96     10020\n",
      "   macro avg       0.95      0.95      0.95     10020\n",
      "weighted avg       0.96      0.96      0.96     10020\n",
      "\n"
     ]
    }
   ],
   "source": [
    "print(classification_report(y_test,y_pred))"
   ]
  },
  {
   "cell_type": "code",
   "execution_count": 16,
   "id": "69d34ed2-526f-4fc0-9949-273e97f138ba",
   "metadata": {},
   "outputs": [],
   "source": [
    "# save the model to disk\n",
    "import pickle\n",
    "\n",
    "filename = 'boredom_classifier.sav'\n",
    "pickle.dump(clf, open(filename, 'wb'))"
   ]
  }
 ],
 "metadata": {
  "kernelspec": {
   "display_name": "Python 3 (ipykernel)",
   "language": "python",
   "name": "python3"
  },
  "language_info": {
   "codemirror_mode": {
    "name": "ipython",
    "version": 3
   },
   "file_extension": ".py",
   "mimetype": "text/x-python",
   "name": "python",
   "nbconvert_exporter": "python",
   "pygments_lexer": "ipython3",
   "version": "3.11.5"
  }
 },
 "nbformat": 4,
 "nbformat_minor": 5
}
