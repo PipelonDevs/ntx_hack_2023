{
 "cells": [
  {
   "cell_type": "code",
   "execution_count": 1,
   "id": "3e673766-50cb-4d25-953d-f3fa1b75abf1",
   "metadata": {},
   "outputs": [],
   "source": [
    "import pandas as pd\n",
    "import numpy as np \n",
    "import matplotlib.pyplot as plt\n",
    "from sklearn.model_selection import train_test_split\n",
    "from sklearn.svm import SVC\n",
    "from sklearn.metrics import classification_report"
   ]
  },
  {
   "cell_type": "code",
   "execution_count": 2,
   "id": "593fd54e-c30f-43e4-a5ec-35129bcd721e",
   "metadata": {},
   "outputs": [],
   "source": [
    "path_boring = \"C:/Users/tomas/Desktop/Mne/ntx_hack_2023/Datasets/boringDataChannels.csv\"\n",
    "path_boring = \"C:/Users/tomas/Desktop/Mne/ntx_hack_2023/Datasets/immersiveDataChannels.csv\""
   ]
  },
  {
   "cell_type": "code",
   "execution_count": 3,
   "id": "4b3e2dd6-713e-46b6-9c5c-8e9a34609991",
   "metadata": {},
   "outputs": [],
   "source": [
    "data_boring = pd.read_csv(path_boring)\n",
    "data_immersive = pd.read_csv(path_immersive)"
   ]
  },
  {
   "cell_type": "code",
   "execution_count": 6,
   "id": "0c34c6c7-4b2f-4ad8-94b8-78b8a0439f01",
   "metadata": {},
   "outputs": [],
   "source": [
    "trimmed_data_boring = data.iloc[:,8:56]\n",
    "trimmed_data_immersive = data.iloc[:,8:56]"
   ]
  },
  {
   "cell_type": "code",
   "execution_count": 10,
   "id": "2c889e69-6e8c-477e-b508-2cb84456bb4c",
   "metadata": {},
   "outputs": [],
   "source": [
    "new_columns = [\n",
    "    'theta channel 1', 'theta channel 2', 'theta channel 3', 'theta channel 4',\n",
    "    'theta channel 5', 'theta channel 6', 'theta channel 7', 'theta channel 8',\n",
    "    'alpha channel 1', 'alpha channel 2', 'alpha channel 3', 'alpha channel 4',\n",
    "    'alpha channel 5', 'alpha channel 6', 'alpha channel 7', 'alpha channel 8',\n",
    "    'beta low channel 1', 'beta low channel 2', 'beta low channel 3', 'beta low channel 4',\n",
    "    'beta low channel 5', 'beta low channel 6', 'beta low channel 7', 'beta low channel 8',\n",
    "    'beta mid channel 1', 'beta mid channel 2', 'beta mid channel 3', 'beta mid channel 4',\n",
    "    'beta mid channel 5', 'beta mid channel 6', 'beta mid channel 7', 'beta mid channel 8',\n",
    "    'beta high channel 1', 'beta high channel 2', 'beta high channel 3', 'beta high channel 4',\n",
    "    'beta high channel 5', 'beta high channel 6', 'beta high channel 7', 'beta high channel 8',\n",
    "    'gamma channel 1', 'gamma channel 2', 'gamma channel 3', 'gamma channel 4',\n",
    "    'gamma channel 5', 'gamma channel 6', 'gamma channel 7', 'gamma channel 8'\n",
    "]\n",
    "\n",
    "# Update DataFrame columns\n",
    "trimmed_data_boring.columns = new_columns\n",
    "trimmed_data_immersive.columns = new_columns"
   ]
  },
  {
   "cell_type": "code",
   "execution_count": 11,
   "id": "b9e3d268-7504-41c3-be7c-1b8d01e14b03",
   "metadata": {},
   "outputs": [
    {
     "data": {
      "text/plain": [
       "(2175, 48)"
      ]
     },
     "execution_count": 11,
     "metadata": {},
     "output_type": "execute_result"
    }
   ],
   "source": [
    "trimmed_data_boring.shape\n",
    "trimmed_data_immersive.shape"
   ]
  },
  {
   "cell_type": "code",
   "execution_count": null,
   "id": "dbf8f0dd-028a-4ad4-8ba4-5442bc5e6616",
   "metadata": {},
   "outputs": [],
   "source": [
    "trimmed_data_boring[\"Flag\"]=0\n",
    "trimmed_data_immersive[\"Flag\"]=1"
   ]
  },
  {
   "cell_type": "code",
   "execution_count": null,
   "id": "77cf2bf9-533a-4f6f-8ffb-ccf0bbc8a20c",
   "metadata": {},
   "outputs": [],
   "source": [
    "whole_data = pd.concat([trimmed_data_boring, trimmed_data_immersive], ignore_index =True)"
   ]
  },
  {
   "cell_type": "code",
   "execution_count": null,
   "id": "5add3ece-e026-4188-a97c-ac96505f4da7",
   "metadata": {},
   "outputs": [],
   "source": [
    "whole_data.shape"
   ]
  },
  {
   "cell_type": "code",
   "execution_count": null,
   "id": "e37ae51d-73af-455f-a7a8-35c15e312014",
   "metadata": {},
   "outputs": [],
   "source": [
    "X_train, X_test, y_train, y_test = train_test_split(X, y, test_size=0.2, random_state=42)"
   ]
  },
  {
   "cell_type": "code",
   "execution_count": null,
   "id": "7ef8c0bf-4bb5-4b11-a6b0-ad0c403090ff",
   "metadata": {},
   "outputs": [],
   "source": [
    "clf = SVC(kernel='rbf', gamma=0.1)"
   ]
  }
 ],
 "metadata": {
  "kernelspec": {
   "display_name": "Python 3 (ipykernel)",
   "language": "python",
   "name": "python3"
  },
  "language_info": {
   "codemirror_mode": {
    "name": "ipython",
    "version": 3
   },
   "file_extension": ".py",
   "mimetype": "text/x-python",
   "name": "python",
   "nbconvert_exporter": "python",
   "pygments_lexer": "ipython3",
   "version": "3.11.6"
  }
 },
 "nbformat": 4,
 "nbformat_minor": 5
}
